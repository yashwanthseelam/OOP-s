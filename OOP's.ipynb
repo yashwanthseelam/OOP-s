{
  "nbformat": 4,
  "nbformat_minor": 0,
  "metadata": {
    "colab": {
      "provenance": []
    },
    "kernelspec": {
      "name": "python3",
      "display_name": "Python 3"
    },
    "language_info": {
      "name": "python"
    }
  },
  "cells": [
    {
      "cell_type": "markdown",
      "source": [
        "1.   What is Object-Oriented Programming (OOP)?\n",
        "    ->Object-Oriented Programming (OOP) is a programming paradigm tha structures software design around objects and their interactions.\n",
        "2.   What is a class in OOP ?\n",
        "    ->class is blueprint/template of an object.\n",
        "3.   What is an object in OOP+?\n",
        "    ->Object is a instance of class .\n",
        "4.  What is the difference between abstraction and encapsulation?\n",
        "    ->Abstraction is the process of hiding unnecessary details and exposing only essential features of an object or system\n",
        "    ->Encapsulation is the practice of bundling data and methods together within a class, thereby hiding the internal state and implementation details from the outside world.\n",
        "5. What are dunder methods in Python?\n",
        "    ->Dunder methods, also known as magic methods, are special methods in Python that begin and end with double underscores (e.g., __init__, __str__, __len__). They provide a way to define how objects of a class should behave with built-in operations and functions.\n",
        "6. Explain the concept of inheritance in OOPs?\n",
        "    ->Inheritance in object-oriented programming (OOP) is a mechanism where a new class (derived or subclass) inherits properties and behaviors (methods) from an existing class (base or superclass)\n",
        "7. What is polymorphism in OOP?\n",
        "    ->olymorphism is a feature of object-oriented programming languages that allows a specific routine to use variables of different types at different times\n",
        "8. How is encapsulation achieved in Python?\n",
        "    ->Encapsulation is achieved by declaring a class's data members and methods as either private or protected\n",
        "9. What is a constructor in Python?\n",
        "    ->Constructors in Python is a special class method for creating and initializing an object instance at that class.\n",
        "10.  What are class and static methods in Python?\n",
        "    ->Class methods receive the class itself as the first argument, conventionally named cls. They are defined using the @classmethod decorator.\n",
        "    ->Static methods do not receive any implicit first argument (neither the instance nor the class). They are defined using the @staticmethod decorator.\n",
        "11. What is method overloading in Python?\n",
        "    ->Method overloading is a feature of object-oriented programming where a class can have multiple methods with the same name but different parameters.\n",
        "12. What is method overriding in OOP?\n",
        "    ->Method overriding, in object-oriented programming, is a language feature that allows a subclass or child class to provide a specific implementation of a method that is already provided by one of its superclasses or parent classes.\n",
        "13. What is a property decorator in Python?\n",
        "    ->The Python property decorator makes attributes in a class act like read-only properties. Essentially, it lets you access methods as if they were attributes, without needing to write parentheses.\n",
        "14. Why is polymorphism important in OOP?\n",
        "    ->Polymorphism is crucial in OOP because it allows you to treat objects of different classes as objects of a common type, enabling code reuse, flexibility, and extensibility.\n",
        "15. What is an abstract class in Python?\n",
        "    ->An abstract class is like a template for other classes. It defines methods that must be included in any class that inherits from it, but it doesn’t provide the actual code for those methods.\n",
        "16. What are the advantages of OOP+?\n",
        "    ->Object-Oriented Programming (OOP) offers several advantages, including enhanced code organization, reusability, and flexibility. These advantages contribute to improved productivity, maintainability, and scalability in software development.\n",
        "\n",
        "17. What is the difference between a class variable and an instance variable?\n",
        "    ->Class variables (also known as static variables) are shared among all instances of a class, meaning they have one copy for the entire class. Instance variables, on the other hand, are unique to each instance (object) of the class, with each object having its own separate copy.\n",
        "18. What is multiple inheritance in Python?\n",
        "    ->Multiple inheritance in Python is a feature that allows a class to inherit attributes and methods from more than one parent class. This means a child class can possess and utilize functionalities defined in multiple independent classes.\n",
        "\n",
        "19.  Explain the purpose of ‘’__str__’ and ‘__repr__’ ‘ methods in Python?\n",
        "    ->The __str__ and __repr__ methods in Python are special methods used to define how objects are represented as strings. They serve different purposes and are used in different contexts\n",
        "  20. What is the significance of the ‘super()’ function in Python?\n",
        "    ->The super() function is used to give access to methods and properties of a parent or sibling class.\n",
        "    -> The super() function returns an object that represents the parent class.\n",
        "21. What is the significance of the __del__ method in Python?\n",
        "    ->__del__ is a finalizer. It is called when an object is garbage collected which happens at some point after all references to the object have been deleted\n",
        "22. What is the difference between @staticmethod and @classmethod in Python?\n",
        "    ->It does not receive any implicit arguments (neither the instance self nor the class cls).\n",
        "    ->It behaves like a regular function, but it is logically associated with the class\n",
        "    ->It receives the class itself as the first argument (cls).\n",
        "    ->It can access and modify class-level attributes.\n",
        "23. How does polymorphism work in Python with inheritance?\n",
        "    ->Polymorphism is often used in Class methods, where we can have multiple classes with the same method name.\n",
        "24. What is method chaining in Python OOP?\n",
        "    ->Method chaining can be explained in simple terms as performing a series of operations on an object by chaining together multiple method calls.\n",
        "25. What is the purpose of the __call__ method in Python?\n",
        "    ->The __call__ method is part of Python build-in methods also called dunder or magic methods because have two prefixes and suffix underscores in the method name. The main idea of __call__ method is to write a class and invoke it like a function. You can refer to it as callable object."
      ],
      "metadata": {
        "id": "W5_R0xOhDh6a"
      }
    },
    {
      "cell_type": "code",
      "execution_count": null,
      "metadata": {
        "id": "RHRDjCiIsLvR"
      },
      "outputs": [],
      "source": []
    },
    {
      "cell_type": "code",
      "source": [
        "# Create a parent class Animal with a method speak() that prints a generic message. Create a child class Dog that overrides the speak() method to print \"Bark!\".\n",
        "class Animal:\n",
        "  def speak(self):\n",
        "    print(\"Animal will make sosund\")\n",
        "class Dog(Animal):\n",
        "  def speak(self):\n",
        "    print(\"Bark\")"
      ],
      "metadata": {
        "id": "H4mU9HQ0saar"
      },
      "execution_count": null,
      "outputs": []
    },
    {
      "cell_type": "code",
      "source": [
        "dog = Dog()\n",
        "dog.speak()"
      ],
      "metadata": {
        "colab": {
          "base_uri": "https://localhost:8080/"
        },
        "id": "UmTex5betJfw",
        "outputId": "60d5f6b5-9f53-492e-8fc0-14548a3d42b4"
      },
      "execution_count": null,
      "outputs": [
        {
          "output_type": "stream",
          "name": "stdout",
          "text": [
            "Bark\n"
          ]
        }
      ]
    },
    {
      "cell_type": "code",
      "source": [
        "#Write a program to create an abstract class Shape with a method area(). Derive classes Circle and Rectangle from it and implement the area() method in both.\n",
        "import abc\n",
        "class Shape:\n",
        "  @abc.abstractclassmethod\n",
        "  def area(self):\n",
        "    print(\"Area\")\n",
        "class Circle(Shape):\n",
        "  def area(self):\n",
        "    print(\"The Area of the Circle is pi*r**2\")\n",
        "class Rectangle(Shape):\n",
        "  def area(Shape):\n",
        "    print(\"The Area of the Rectangle is length * breadth\")"
      ],
      "metadata": {
        "id": "kW4NYF4NtQQ0"
      },
      "execution_count": null,
      "outputs": []
    },
    {
      "cell_type": "code",
      "source": [
        "shape1 = Circle()\n",
        "shape2 = Rectangle()\n",
        "shapes = [shape1,shape2]\n",
        "for item in shapes:\n",
        "  item.area()"
      ],
      "metadata": {
        "colab": {
          "base_uri": "https://localhost:8080/"
        },
        "id": "LFl8-48FuvXW",
        "outputId": "df094b55-2a52-4109-846b-3188fc2e7ec6"
      },
      "execution_count": null,
      "outputs": [
        {
          "output_type": "stream",
          "name": "stdout",
          "text": [
            "The Area of the Circle is pi*r**2\n",
            "The Area of the Rectangle is length * breadth\n"
          ]
        }
      ]
    },
    {
      "cell_type": "code",
      "source": [
        "#Implement a multi-level inheritance scenario where a class Vehicle has an attribute type. Derive a class Car and further derive a class ElectricCar that adds a battery attribute\n",
        "class Vehicle:\n",
        "  def start_with(self):\n",
        "    print(\"Engine Starts\")\n",
        "class Car(Vehicle):\n",
        "  pass\n",
        "class Electric_car(Car):\n",
        "  def electric_car(self,battery):\n",
        "    self.battery = battery\n",
        "    return self.battery\n"
      ],
      "metadata": {
        "id": "e0IYvU1rvGF-"
      },
      "execution_count": null,
      "outputs": []
    },
    {
      "cell_type": "code",
      "source": [
        " # Demonstrate polymorphism by creating a base class Bird with a method fly(). Create two derived classes Sparrow and Penguin that override the fly() method.\n",
        " class Bird:\n",
        "  def fly(self):\n",
        "    print(\"Bird will Fly\")\n",
        "class Sparrow(Bird):\n",
        "  def fly(self):\n",
        "    print(\"Sparrow will Fly\")\n",
        "class Penguin(Bird):\n",
        "  def fly(self):\n",
        "    print(\"Pengunin will Fly\")\n"
      ],
      "metadata": {
        "id": "WkRRmDyGw8RD"
      },
      "execution_count": null,
      "outputs": []
    },
    {
      "cell_type": "code",
      "source": [
        "sparrow = Sparrow()\n",
        "sparrow.fly()\n",
        "penguin = Penguin()\n",
        "penguin.fly()"
      ],
      "metadata": {
        "colab": {
          "base_uri": "https://localhost:8080/"
        },
        "id": "id3ucIqwxv1Z",
        "outputId": "3fd6310d-af25-40e6-addf-02dc2e5fc300"
      },
      "execution_count": null,
      "outputs": [
        {
          "output_type": "stream",
          "name": "stdout",
          "text": [
            "Sparrow will Fly\n",
            "Pengunin will Fly\n"
          ]
        }
      ]
    },
    {
      "cell_type": "code",
      "source": [
        "# Write a program to demonstrate encapsulation by creating a class BankAccount with private attributes balance and methods to deposit, withdraw, and check balance.\n",
        "class BankAccount:\n",
        "  def __init__(self,amount):\n",
        "    self.__balance = amount\n",
        "  def __method_deposit(self,balance):\n",
        "    self.__balance = balance+self.__balance\n",
        "    print(\"Amount Successfully Deposit\",balance)\n",
        "  def __withdraw(self,balance):\n",
        "    if self.__balance > balance:\n",
        "      self.__balance -= balance\n",
        "      print(\"Withdraw amount Successfully : \" ,balance)\n",
        "    else:\n",
        "      print(\"Insufficient Balance\")\n",
        "  def check_balance(self):\n",
        "    print(\"Available Balance is: \",self.__balance)\n"
      ],
      "metadata": {
        "id": "o5GFZ7BvyEYX"
      },
      "execution_count": null,
      "outputs": []
    },
    {
      "cell_type": "code",
      "source": [
        "yashwanth = BankAccount(1000)"
      ],
      "metadata": {
        "id": "fHjqrWKSzTOj"
      },
      "execution_count": null,
      "outputs": []
    },
    {
      "cell_type": "code",
      "source": [
        "yashwanth._BankAccount__method_deposit(100)"
      ],
      "metadata": {
        "colab": {
          "base_uri": "https://localhost:8080/"
        },
        "id": "g6nUDmEPz2h3",
        "outputId": "eb243f50-9cf1-49bb-b03a-26a0c0c3798c"
      },
      "execution_count": null,
      "outputs": [
        {
          "output_type": "stream",
          "name": "stdout",
          "text": [
            "Amount Successfully Deposit 100\n"
          ]
        }
      ]
    },
    {
      "cell_type": "code",
      "source": [
        "yashwanth._BankAccount__withdraw(100)"
      ],
      "metadata": {
        "colab": {
          "base_uri": "https://localhost:8080/"
        },
        "id": "AIg4dVaN0G0B",
        "outputId": "2d7824b9-5116-4734-a8b5-ff4160e629e9"
      },
      "execution_count": null,
      "outputs": [
        {
          "output_type": "stream",
          "name": "stdout",
          "text": [
            "Withdraw amount Successfully :  100\n"
          ]
        }
      ]
    },
    {
      "cell_type": "code",
      "source": [
        "yashwanth.check_balance()"
      ],
      "metadata": {
        "colab": {
          "base_uri": "https://localhost:8080/"
        },
        "id": "0V_bOni31mgg",
        "outputId": "e655e61a-6642-4618-f562-cbe1710dae2b"
      },
      "execution_count": null,
      "outputs": [
        {
          "output_type": "stream",
          "name": "stdout",
          "text": [
            "Available Balance is:  900\n"
          ]
        }
      ]
    },
    {
      "cell_type": "code",
      "source": [
        " # Demonstrate runtime polymorphism using a method play() in a base class Instrument. Derive classes Guitar and Piano that implement their own version of play()\n",
        " class Instrument:\n",
        "  def play(self):\n",
        "    print(\"Play the Instrument\")\n",
        "class Guitar(Instrument):\n",
        "    def play(self):\n",
        "      print(\"Play the Guitar\")\n",
        "class Piano(Instrument):\n",
        "  def play(self):\n",
        "     print(\"Play the Piano\")\n",
        "guitar = Guitar()\n",
        "piano = Piano()\n",
        "instruments = [ guitar , piano ]\n",
        "for instrument in instruments:\n",
        "  instrument.play()"
      ],
      "metadata": {
        "colab": {
          "base_uri": "https://localhost:8080/"
        },
        "id": "7GuzmHG62UEk",
        "outputId": "8c38de2f-703e-4064-e33b-6e01ce926fa7"
      },
      "execution_count": null,
      "outputs": [
        {
          "output_type": "stream",
          "name": "stdout",
          "text": [
            "Play the Guitar\n",
            "Play the Piano\n"
          ]
        }
      ]
    },
    {
      "cell_type": "code",
      "source": [
        "#Create a class MathOperations with a class method add_numbers() to add two numbers and a static method subtract_numbers() to subtract two numbers\n",
        "class MathOperations:\n",
        "  @classmethod\n",
        "  def add_number(cls,x,y):\n",
        "    return x+y\n",
        "\n",
        "  @staticmethod\n",
        "  def subtract_numbers(x,y):\n",
        "    return x-y\n"
      ],
      "metadata": {
        "id": "oSjFO8Rx3SXA"
      },
      "execution_count": null,
      "outputs": []
    },
    {
      "cell_type": "code",
      "source": [
        "#Implement a class Person with a class method to count the total number of persons created\n",
        "class Person:\n",
        "  total_created = 0\n",
        "  def __init__(self,name):\n",
        "    self.name = name\n",
        "    Person.total_created += 1\n",
        "\n",
        "  @classmethod\n",
        "  def person_details(cls,name):\n",
        "    return cls(Person.total_created)\n",
        "student1 = Person.person_details(\"Ajay\")\n"
      ],
      "metadata": {
        "id": "NVwz-rQIIUcL"
      },
      "execution_count": null,
      "outputs": []
    },
    {
      "cell_type": "code",
      "source": [
        "Student2 = Person.person_details(\"Yashwanth\")"
      ],
      "metadata": {
        "id": "6kMz-HFGJ1Su"
      },
      "execution_count": null,
      "outputs": []
    },
    {
      "cell_type": "code",
      "source": [
        "Person.total_created"
      ],
      "metadata": {
        "colab": {
          "base_uri": "https://localhost:8080/"
        },
        "id": "HcD3Sbsem5JQ",
        "outputId": "866af289-4d75-4f35-dc8b-7f915cf54f66"
      },
      "execution_count": null,
      "outputs": [
        {
          "output_type": "execute_result",
          "data": {
            "text/plain": [
              "3"
            ]
          },
          "metadata": {},
          "execution_count": 5
        }
      ]
    },
    {
      "cell_type": "code",
      "source": [
        "#Write a class Fraction with attributes numerator and denominator. Override the str method to display the fraction as \"numerator/denominator\"\n",
        "class Fraction:\n",
        "  def __init__(self,numerator,denominator):\n",
        "    self.numerator = numberator\n",
        "    self.denominator = denominator\n",
        "  def __str__(self):\n",
        "    return f'self.numerator \\ self.denominator'"
      ],
      "metadata": {
        "id": "yRU0r0S-nOQ-"
      },
      "execution_count": null,
      "outputs": []
    },
    {
      "cell_type": "code",
      "source": [
        "# Demonstrate operator overloading by creating a class Vector and overriding the add method to add two vectors\n",
        "class Vector:\n",
        "  def __init__(self,a,b):\n",
        "    self.a = a\n",
        "    self.b = b\n",
        "  def __add__(self):\n",
        "    print(f'{self.a}+{self.b}')\n"
      ],
      "metadata": {
        "id": "pQhIXos6jznV"
      },
      "execution_count": null,
      "outputs": []
    },
    {
      "cell_type": "code",
      "source": [
        "#Create a class Person with attributes name and age. Add a method greet() that prints \"Hello, my name is {name} and I am {age} years old.\"\n",
        "class Person:\n",
        "  def __init__(self,name,self,age):\n",
        "    self.name = name\n",
        "    self.age = age\n",
        "  def greet(self):\n",
        "    print(\"Hello, my name is {self.name} and I am {self.age} years old.\")"
      ],
      "metadata": {
        "id": "LAfYwjMHj_dd"
      },
      "execution_count": null,
      "outputs": []
    },
    {
      "cell_type": "code",
      "source": [
        "# Implement a class Student with attributes name and grades. Create a method average_grade() to compute the average of the grades\n",
        "class Student:\n",
        "    def __init__(self, name, grades):\n",
        "        self.name = name\n",
        "        self.grades = grades\n",
        "\n",
        "    def average_grade(self):\n",
        "        if not self.grades:\n",
        "            return 0\n",
        "        return sum(self.grades) / len(self.grades)\n",
        "\n",
        "\n"
      ],
      "metadata": {
        "id": "V4_EeZtckLyL"
      },
      "execution_count": null,
      "outputs": []
    },
    {
      "cell_type": "code",
      "source": [
        "# prompt: Create a class Rectangle with methods set_dimensions() to set the dimensions and area() to calculate the area.\n",
        "\n",
        "class Rectangle:\n",
        "    def set_dimensions(self, length, breadth):\n",
        "        self.length = length\n",
        "        self.breadth = breadth\n",
        "\n",
        "    def area(self):\n",
        "        return self.length * self.breadth\n"
      ],
      "metadata": {
        "id": "7myiOl1WB-ZI"
      },
      "execution_count": null,
      "outputs": []
    },
    {
      "cell_type": "code",
      "source": [
        "# prompt: Create a class Employee with a method calculate_salary() that computes the salary based on hours worked and hourly rate. Create a derived class Manager that adds a bonus to the salary\n",
        "\n",
        "class Employee:\n",
        "    def __init__(self, hours_worked, hourly_rate):\n",
        "        self.hours_worked = hours_worked\n",
        "        self.hourly_rate = hourly_rate\n",
        "\n",
        "    def calculate_salary(self):\n",
        "        return self.hours_worked * self.hourly_rate\n",
        "\n",
        "class Manager(Employee):\n",
        "    def __init__(self, hours_worked, hourly_rate, bonus):\n",
        "        super().__init__(hours_worked, hourly_rate)\n",
        "        self.bonus = bonus\n",
        "\n",
        "    def calculate_salary(self):\n",
        "        return super().calculate_salary() + self.bonus\n"
      ],
      "metadata": {
        "id": "KaO77_zqCSO4"
      },
      "execution_count": null,
      "outputs": []
    },
    {
      "cell_type": "code",
      "source": [
        "# prompt: Create a class Product with attributes name, price, and quantity. Implement a method total_price() that calculates the total price of the product.\n",
        "\n",
        "class Product:\n",
        "    def __init__(self, name, price, quantity):\n",
        "        self.name = name\n",
        "        self.price = price\n",
        "        self.quantity = quantity\n",
        "\n",
        "    def total_price(self):\n",
        "        return self.price * self.quantity\n"
      ],
      "metadata": {
        "id": "u702aRuGCg6b"
      },
      "execution_count": null,
      "outputs": []
    },
    {
      "cell_type": "code",
      "source": [
        "# prompt: #. Create a class Animal with an abstract method sound(). Create two derived classes Cow and Sheep thatimplement the sound() method\n",
        "\n",
        "import abc\n",
        "\n",
        "class Animal(abc.ABC):\n",
        "    @abc.abstractmethod\n",
        "    def sound(self):\n",
        "        pass\n",
        "\n",
        "class Cow(Animal):\n",
        "    def sound(self):\n",
        "        print(\"Moo\")\n",
        "\n",
        "class Sheep(Animal):\n",
        "    def sound(self):\n",
        "        print(\"Baa\")\n",
        "\n",
        "cow = Cow()\n",
        "cow.sound()\n",
        "\n",
        "sheep = Sheep()\n",
        "sheep.sound()\n"
      ],
      "metadata": {
        "colab": {
          "base_uri": "https://localhost:8080/"
        },
        "id": "ZSuYym-tCz6Q",
        "outputId": "33d635a0-6155-407f-dcd8-2ddba2eb184c"
      },
      "execution_count": null,
      "outputs": [
        {
          "output_type": "stream",
          "name": "stdout",
          "text": [
            "Moo\n",
            "Baa\n"
          ]
        }
      ]
    },
    {
      "cell_type": "code",
      "source": [
        "# prompt:  Create a class Book with attributes title, author, and year_published. Add a method get_book_info() that returns a formatted string with the book's details.\n",
        "\n",
        "class Book:\n",
        "    def __init__(self, title, author, year_published):\n",
        "        self.title = title\n",
        "        self.author = author\n",
        "        self.year_published = year_published\n",
        "\n",
        "    def get_book_info(self):\n",
        "        return f\"Title: {self.title}, Author: {self.author}, Year Published: {self.year_published}\"\n"
      ],
      "metadata": {
        "id": "1Opz4Av8DFjH"
      },
      "execution_count": null,
      "outputs": []
    },
    {
      "cell_type": "code",
      "source": [
        "# prompt:  Create a class House with attributes address and price. Create a derived class Mansion that adds anattribute number_of_rooms.\n",
        "\n",
        "class House:\n",
        "  def __init__(self, address, price):\n",
        "    self.address = address\n",
        "    self.price = price\n",
        "\n",
        "class Mansion(House):\n",
        "  def __init__(self, address, price, number_of_rooms):\n",
        "    super().__init__(address, price)\n",
        "    self.number_of_rooms = number_of_rooms\n"
      ],
      "metadata": {
        "id": "NqIs7J0JDG6P"
      },
      "execution_count": null,
      "outputs": []
    },
    {
      "cell_type": "code",
      "source": [],
      "metadata": {
        "id": "bgGmVJb0DYl2"
      },
      "execution_count": null,
      "outputs": []
    }
  ]
}